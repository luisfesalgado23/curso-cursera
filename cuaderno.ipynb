{
 "cells": [
  {
   "cell_type": "markdown",
   "id": "e87b867b",
   "metadata": {},
   "source": [
    "Tareas calificadas por los compañeros:"
   ]
  },
  {
   "cell_type": "markdown",
   "id": "d55faf23",
   "metadata": {},
   "source": [
    "# Tareas calificadas por los compañeros"
   ]
  },
  {
   "cell_type": "markdown",
   "id": "60d43ec9",
   "metadata": {},
   "source": [
    "1. python\n",
    "2. sql\n",
    "3. r\n",
    "4. java javascrips\n",
    "5. c y c++\n",
    "6. scala\n",
    "7. julia\n",
    "\n",
    "entre otros"
   ]
  },
  {
   "cell_type": "markdown",
   "id": "a4f0f48b",
   "metadata": {},
   "source": [
    "1. tensor-flow\n",
    "2. Scikit-Learn\n",
    "3. pandas\n",
    "4. Numpy\n",
    "5. matplot\n",
    "6. seaborn\n",
    "7. keras\n",
    "\n",
    "entre otras\n"
   ]
  },
  {
   "cell_type": "markdown",
   "id": "3b842cdd",
   "metadata": {},
   "source": [
    "1. Machilearning\n",
    "2. ia \n",
    "3. git\n",
    "4. lenguajes de programacion\n",
    "5. hojas de calculo "
   ]
  },
  {
   "cell_type": "markdown",
   "id": "674bc6a3",
   "metadata": {},
   "source": [
    "2+5\n",
    "3-4\n",
    "7/9\n",
    "(1*7)+7"
   ]
  },
  {
   "cell_type": "code",
   "execution_count": 3,
   "id": "1cee50bf",
   "metadata": {},
   "outputs": [
    {
     "data": {
      "text/plain": [
       "2"
      ]
     },
     "execution_count": 3,
     "metadata": {},
     "output_type": "execute_result"
    }
   ],
   "source": [
    "n=1\n",
    "m=2\n",
    "n+m\n",
    "n*m"
   ]
  },
  {
   "cell_type": "code",
   "execution_count": 6,
   "id": "c6c05eb7",
   "metadata": {},
   "outputs": [
    {
     "data": {
      "text/plain": [
       "2.6666666666666665"
      ]
     },
     "execution_count": 6,
     "metadata": {},
     "output_type": "execute_result"
    }
   ],
   "source": [
    "minutos=160\n",
    "\n",
    "horas=minutos/60\n",
    "horas"
   ]
  },
  {
   "cell_type": "code",
   "execution_count": 7,
   "id": "2f2e6dde",
   "metadata": {},
   "outputs": [
    {
     "data": {
      "text/plain": [
       "('manzana', 'pera', 'mango', 'coco')"
      ]
     },
     "execution_count": 7,
     "metadata": {},
     "output_type": "execute_result"
    }
   ],
   "source": [
    "n=(\"manzana\",\"pera\",\"mango\",\"coco\")\n",
    "n"
   ]
  },
  {
   "cell_type": "markdown",
   "id": "354c2f17",
   "metadata": {},
   "source": [
    "luis fernando salgado durango"
   ]
  },
  {
   "cell_type": "code",
   "execution_count": null,
   "id": "b307a1ba",
   "metadata": {},
   "outputs": [],
   "source": []
  }
 ],
 "metadata": {
  "kernelspec": {
   "display_name": "Python 3",
   "language": "python",
   "name": "python3"
  },
  "language_info": {
   "codemirror_mode": {
    "name": "ipython",
    "version": 3
   },
   "file_extension": ".py",
   "mimetype": "text/x-python",
   "name": "python",
   "nbconvert_exporter": "python",
   "pygments_lexer": "ipython3",
   "version": "3.8.8"
  }
 },
 "nbformat": 4,
 "nbformat_minor": 5
}
